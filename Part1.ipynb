{
  "nbformat": 4,
  "nbformat_minor": 0,
  "metadata": {
    "colab": {
      "name": "Part1.ipynb",
      "provenance": []
    },
    "kernelspec": {
      "name": "python3",
      "display_name": "Python 3"
    },
    "language_info": {
      "name": "python"
    }
  },
  "cells": [
    {
      "cell_type": "code",
      "metadata": {
        "id": "ep8kRX6Xb4yn"
      },
      "source": [
        "import pandas as pd"
      ],
      "execution_count": 1,
      "outputs": []
    },
    {
      "cell_type": "code",
      "metadata": {
        "id": "X3ULTsBWcfzQ"
      },
      "source": [
        "bitcoin_data = pd.read_csv('/content/BTC-USD.csv', index_col=0, parse_dates=True)\n",
        "# index_col=0 --------> is to remove index\n",
        "# parse_dates=True ----------> to tell him that date is not object"
      ],
      "execution_count": 9,
      "outputs": []
    },
    {
      "cell_type": "code",
      "metadata": {
        "colab": {
          "base_uri": "https://localhost:8080/",
          "height": 238
        },
        "id": "16mL3pwec6Zp",
        "outputId": "b33d0fdf-de50-4d8a-b289-8136ccf40926"
      },
      "source": [
        "bitcoin_data.head()"
      ],
      "execution_count": 10,
      "outputs": [
        {
          "output_type": "execute_result",
          "data": {
            "text/html": [
              "<div>\n",
              "<style scoped>\n",
              "    .dataframe tbody tr th:only-of-type {\n",
              "        vertical-align: middle;\n",
              "    }\n",
              "\n",
              "    .dataframe tbody tr th {\n",
              "        vertical-align: top;\n",
              "    }\n",
              "\n",
              "    .dataframe thead th {\n",
              "        text-align: right;\n",
              "    }\n",
              "</style>\n",
              "<table border=\"1\" class=\"dataframe\">\n",
              "  <thead>\n",
              "    <tr style=\"text-align: right;\">\n",
              "      <th></th>\n",
              "      <th>Open</th>\n",
              "      <th>High</th>\n",
              "      <th>Low</th>\n",
              "      <th>Close</th>\n",
              "      <th>Adj Close</th>\n",
              "      <th>Volume</th>\n",
              "    </tr>\n",
              "    <tr>\n",
              "      <th>Date</th>\n",
              "      <th></th>\n",
              "      <th></th>\n",
              "      <th></th>\n",
              "      <th></th>\n",
              "      <th></th>\n",
              "      <th></th>\n",
              "    </tr>\n",
              "  </thead>\n",
              "  <tbody>\n",
              "    <tr>\n",
              "      <th>2020-11-28</th>\n",
              "      <td>17112.933594</td>\n",
              "      <td>17853.939453</td>\n",
              "      <td>16910.652344</td>\n",
              "      <td>17717.414063</td>\n",
              "      <td>17717.414063</td>\n",
              "      <td>32601040734</td>\n",
              "    </tr>\n",
              "    <tr>\n",
              "      <th>2020-11-29</th>\n",
              "      <td>17719.634766</td>\n",
              "      <td>18283.628906</td>\n",
              "      <td>17559.117188</td>\n",
              "      <td>18177.484375</td>\n",
              "      <td>18177.484375</td>\n",
              "      <td>31133957704</td>\n",
              "    </tr>\n",
              "    <tr>\n",
              "      <th>2020-11-30</th>\n",
              "      <td>18178.322266</td>\n",
              "      <td>19749.263672</td>\n",
              "      <td>18178.322266</td>\n",
              "      <td>19625.835938</td>\n",
              "      <td>19625.835938</td>\n",
              "      <td>47728480399</td>\n",
              "    </tr>\n",
              "    <tr>\n",
              "      <th>2020-12-01</th>\n",
              "      <td>19633.769531</td>\n",
              "      <td>19845.974609</td>\n",
              "      <td>18321.921875</td>\n",
              "      <td>18802.998047</td>\n",
              "      <td>18802.998047</td>\n",
              "      <td>49633658712</td>\n",
              "    </tr>\n",
              "    <tr>\n",
              "      <th>2020-12-02</th>\n",
              "      <td>18801.744141</td>\n",
              "      <td>19308.330078</td>\n",
              "      <td>18347.718750</td>\n",
              "      <td>19201.091797</td>\n",
              "      <td>19201.091797</td>\n",
              "      <td>37387697139</td>\n",
              "    </tr>\n",
              "  </tbody>\n",
              "</table>\n",
              "</div>"
            ],
            "text/plain": [
              "                    Open          High  ...     Adj Close       Volume\n",
              "Date                                    ...                           \n",
              "2020-11-28  17112.933594  17853.939453  ...  17717.414063  32601040734\n",
              "2020-11-29  17719.634766  18283.628906  ...  18177.484375  31133957704\n",
              "2020-11-30  18178.322266  19749.263672  ...  19625.835938  47728480399\n",
              "2020-12-01  19633.769531  19845.974609  ...  18802.998047  49633658712\n",
              "2020-12-02  18801.744141  19308.330078  ...  19201.091797  37387697139\n",
              "\n",
              "[5 rows x 6 columns]"
            ]
          },
          "metadata": {},
          "execution_count": 10
        }
      ]
    },
    {
      "cell_type": "code",
      "metadata": {
        "colab": {
          "base_uri": "https://localhost:8080/"
        },
        "id": "oogkWIHBdAxZ",
        "outputId": "fd68b70c-e15d-439b-9931-b9180eba7914"
      },
      "source": [
        "bitcoin_data.dtypes"
      ],
      "execution_count": 7,
      "outputs": [
        {
          "output_type": "execute_result",
          "data": {
            "text/plain": [
              "Open         float64\n",
              "High         float64\n",
              "Low          float64\n",
              "Close        float64\n",
              "Adj Close    float64\n",
              "Volume         int64\n",
              "dtype: object"
            ]
          },
          "metadata": {},
          "execution_count": 7
        }
      ]
    },
    {
      "cell_type": "code",
      "metadata": {
        "colab": {
          "base_uri": "https://localhost:8080/"
        },
        "id": "ba4AgtLOdiUO",
        "outputId": "6bd8af30-6e50-4e7b-9d66-ab477e929b0e"
      },
      "source": [
        "bitcoin_data.index"
      ],
      "execution_count": 11,
      "outputs": [
        {
          "output_type": "execute_result",
          "data": {
            "text/plain": [
              "DatetimeIndex(['2020-11-28', '2020-11-29', '2020-11-30', '2020-12-01',\n",
              "               '2020-12-02', '2020-12-03', '2020-12-04', '2020-12-05',\n",
              "               '2020-12-06', '2020-12-07',\n",
              "               ...\n",
              "               '2021-11-19', '2021-11-20', '2021-11-21', '2021-11-22',\n",
              "               '2021-11-23', '2021-11-24', '2021-11-25', '2021-11-26',\n",
              "               '2021-11-27', '2021-11-28'],\n",
              "              dtype='datetime64[ns]', name='Date', length=366, freq=None)"
            ]
          },
          "metadata": {},
          "execution_count": 11
        }
      ]
    },
    {
      "cell_type": "code",
      "metadata": {
        "colab": {
          "base_uri": "https://localhost:8080/"
        },
        "id": "b_Rq51R6fGGJ",
        "outputId": "969137fa-8818-4511-9fed-abeccf7433e8"
      },
      "source": [
        "bitcoin_data.loc['2020-11-29'] #put any date here and it will give you all details and you can use all .loc[] properties"
      ],
      "execution_count": 12,
      "outputs": [
        {
          "output_type": "execute_result",
          "data": {
            "text/plain": [
              "Open         1.771963e+04\n",
              "High         1.828363e+04\n",
              "Low          1.755912e+04\n",
              "Close        1.817748e+04\n",
              "Adj Close    1.817748e+04\n",
              "Volume       3.113396e+10\n",
              "Name: 2020-11-29 00:00:00, dtype: float64"
            ]
          },
          "metadata": {},
          "execution_count": 12
        }
      ]
    },
    {
      "cell_type": "code",
      "metadata": {
        "colab": {
          "base_uri": "https://localhost:8080/"
        },
        "id": "IL3RqsSgfW0J",
        "outputId": "364fbb58-1250-473f-fd76-a8187f2dbcf8"
      },
      "source": [
        "bitcoin_data.iloc[1] # same as .loc[] but .iloc[] use the location number"
      ],
      "execution_count": 13,
      "outputs": [
        {
          "output_type": "execute_result",
          "data": {
            "text/plain": [
              "Open         1.771963e+04\n",
              "High         1.828363e+04\n",
              "Low          1.755912e+04\n",
              "Close        1.817748e+04\n",
              "Adj Close    1.817748e+04\n",
              "Volume       3.113396e+10\n",
              "Name: 2020-11-29 00:00:00, dtype: float64"
            ]
          },
          "metadata": {},
          "execution_count": 13
        }
      ]
    },
    {
      "cell_type": "code",
      "metadata": {
        "id": "R4lbL9QbgLQ9"
      },
      "source": [
        ""
      ],
      "execution_count": null,
      "outputs": []
    }
  ]
}